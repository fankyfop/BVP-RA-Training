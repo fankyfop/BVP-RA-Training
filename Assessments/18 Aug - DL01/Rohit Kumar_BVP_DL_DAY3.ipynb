{
  "nbformat": 4,
  "nbformat_minor": 0,
  "metadata": {
    "colab": {
      "name": "BVP_DL_DAY3.ipynb",
      "provenance": []
    },
    "kernelspec": {
      "name": "python3",
      "display_name": "Python 3"
    },
    "language_info": {
      "name": "python"
    }
  },
  "cells": [
    {
      "cell_type": "code",
      "execution_count": null,
      "metadata": {
        "id": "XTxahArJ9o_V"
      },
      "outputs": [],
      "source": [
        "#Sigmiod\n",
        "import math\n",
        "\n",
        "def sigmoid(x):\n",
        "  return 1/(1+ math.exp(-x))"
      ]
    },
    {
      "cell_type": "code",
      "source": [
        "sigmoid(-56)"
      ],
      "metadata": {
        "colab": {
          "base_uri": "https://localhost:8080/"
        },
        "id": "gX9XiU7oGh2_",
        "outputId": "3ef13878-fa3e-4bcb-d706-eb27bb7f61ad"
      },
      "execution_count": null,
      "outputs": [
        {
          "output_type": "execute_result",
          "data": {
            "text/plain": [
              "4.780892883885469e-25"
            ]
          },
          "metadata": {},
          "execution_count": 5
        }
      ]
    },
    {
      "cell_type": "code",
      "source": [
        "#tanh (-1,1)\n",
        "\n",
        "def tanh(x):\n",
        "  s=math.exp(x)\n",
        "  t=math.exp(-x)\n",
        "  return (s-t)/(s+t)\n"
      ],
      "metadata": {
        "id": "XOceXl0nGlRf"
      },
      "execution_count": null,
      "outputs": []
    },
    {
      "cell_type": "code",
      "source": [
        "tanh(-78)"
      ],
      "metadata": {
        "colab": {
          "base_uri": "https://localhost:8080/"
        },
        "id": "-9GXdYBSIUHK",
        "outputId": "c42074ae-a702-40dd-cf59-710ec95e682e"
      },
      "execution_count": null,
      "outputs": [
        {
          "output_type": "execute_result",
          "data": {
            "text/plain": [
              "-1.0"
            ]
          },
          "metadata": {},
          "execution_count": 7
        }
      ]
    },
    {
      "cell_type": "code",
      "source": [
        "tanh(8.9)"
      ],
      "metadata": {
        "colab": {
          "base_uri": "https://localhost:8080/"
        },
        "id": "dfAyesWfIV06",
        "outputId": "30235157-690e-4643-90ba-2b391df5a909"
      },
      "execution_count": null,
      "outputs": [
        {
          "output_type": "execute_result",
          "data": {
            "text/plain": [
              "0.999999962796122"
            ]
          },
          "metadata": {},
          "execution_count": 8
        }
      ]
    },
    {
      "cell_type": "code",
      "source": [
        "tanh(-0.456789)"
      ],
      "metadata": {
        "colab": {
          "base_uri": "https://localhost:8080/"
        },
        "id": "CLMoTs-gIXsK",
        "outputId": "e45036f8-e970-414b-9bee-a181d3d2bf7e"
      },
      "execution_count": null,
      "outputs": [
        {
          "output_type": "execute_result",
          "data": {
            "text/plain": [
              "-0.42746354774039275"
            ]
          },
          "metadata": {},
          "execution_count": 9
        }
      ]
    },
    {
      "cell_type": "code",
      "source": [
        "def relu(x):\n",
        "  return max(0.0, x)"
      ],
      "metadata": {
        "id": "zVweTP2kJS1d"
      },
      "execution_count": null,
      "outputs": []
    },
    {
      "cell_type": "code",
      "source": [
        "relu(-100)"
      ],
      "metadata": {
        "colab": {
          "base_uri": "https://localhost:8080/"
        },
        "id": "jSUhtFfQK_a0",
        "outputId": "d08c8f07-9db3-4428-dbf7-cceed084f18f"
      },
      "execution_count": null,
      "outputs": [
        {
          "output_type": "execute_result",
          "data": {
            "text/plain": [
              "0.0"
            ]
          },
          "metadata": {},
          "execution_count": 11
        }
      ]
    },
    {
      "cell_type": "code",
      "source": [
        "relu(-104)"
      ],
      "metadata": {
        "colab": {
          "base_uri": "https://localhost:8080/"
        },
        "id": "rLc17A3MLAvG",
        "outputId": "e72ff8bb-a48e-4087-bf63-aeae66c3bcb9"
      },
      "execution_count": null,
      "outputs": [
        {
          "output_type": "execute_result",
          "data": {
            "text/plain": [
              "0.0"
            ]
          },
          "metadata": {},
          "execution_count": 12
        }
      ]
    },
    {
      "cell_type": "code",
      "source": [
        "#Leaky Relu\n",
        "def leaky_relu(x):\n",
        "  return(0.1*x, x)\n",
        "  "
      ],
      "metadata": {
        "id": "sTF0DCD2LFvx"
      },
      "execution_count": null,
      "outputs": []
    },
    {
      "cell_type": "code",
      "source": [
        "leaky_relu(-0.45)"
      ],
      "metadata": {
        "colab": {
          "base_uri": "https://localhost:8080/"
        },
        "id": "IKHSjvzxLZTX",
        "outputId": "bd183437-45f8-46e4-a3df-3ad11db73fd0"
      },
      "execution_count": null,
      "outputs": [
        {
          "output_type": "execute_result",
          "data": {
            "text/plain": [
              "(-0.045000000000000005, -0.45)"
            ]
          },
          "metadata": {},
          "execution_count": 14
        }
      ]
    },
    {
      "cell_type": "code",
      "source": [
        "AAASSSSSS"
      ],
      "metadata": {
        "id": "7LCvzyJYLdzK"
      },
      "execution_count": null,
      "outputs": []
    }
  ]
}